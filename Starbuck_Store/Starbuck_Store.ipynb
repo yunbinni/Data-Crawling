{
 "cells": [
  {
   "cell_type": "markdown",
   "metadata": {},
   "source": [
    "(시도 반복)\n",
    "1. 지역검색 클릭\n",
    "2. 시도 클릭\n",
    "3. 전체 클릭\n",
    "4. 테이블 가져오기\n",
    "\n",
    "(데이터 모델)\n",
    "이름, 주소, 서비스, 타입, 위치_및_시설, 위도, 경도"
   ]
  },
  {
   "cell_type": "markdown",
   "metadata": {},
   "source": [
    "# 스타벅스 매장 크롤링하기 - 샘플코드"
   ]
  },
  {
   "cell_type": "code",
   "execution_count": 217,
   "metadata": {},
   "outputs": [],
   "source": [
    "from bs4 import BeautifulSoup\n",
    "from selenium import webdriver\n",
    "from selenium.webdriver.common.by import By\n",
    "from selenium.webdriver.support.ui import WebDriverWait\n",
    "from selenium.webdriver.support import expected_conditions as EC\n",
    "import pandas as pd\n",
    "import openpyxl\n",
    "import time\n",
    "import re # 매장코드, 위도, 경도 추출\n",
    "\n",
    "wait = WebDriverWait(driver, 10)"
   ]
  },
  {
   "cell_type": "markdown",
   "metadata": {},
   "source": [
    "## 드라이버 세팅"
   ]
  },
  {
   "cell_type": "code",
   "execution_count": 188,
   "metadata": {},
   "outputs": [],
   "source": [
    "driver = webdriver.Chrome('C:/chromedriver.exe')"
   ]
  },
  {
   "cell_type": "markdown",
   "metadata": {},
   "source": [
    "## 메인 페이지 접속"
   ]
  },
  {
   "cell_type": "code",
   "execution_count": 189,
   "metadata": {},
   "outputs": [],
   "source": [
    "driver.get('https://www.starbucks.co.kr/store/store_map.do')"
   ]
  },
  {
   "cell_type": "markdown",
   "metadata": {},
   "source": [
    "## 지역검색버튼 클릭"
   ]
  },
  {
   "cell_type": "code",
   "execution_count": 190,
   "metadata": {},
   "outputs": [],
   "source": [
    "driver.find_element_by_css_selector('#container > div > form > fieldset > div > section > article.find_store_cont > article > header.loca_search > h3 > a').click()"
   ]
  },
  {
   "cell_type": "markdown",
   "metadata": {},
   "source": [
    "## 시도버튼 클릭"
   ]
  },
  {
   "cell_type": "code",
   "execution_count": 191,
   "metadata": {},
   "outputs": [],
   "source": [
    "sido = driver.find_elements_by_css_selector('#container > div > form > fieldset > div > section > article.find_store_cont > article > article > div.loca_step1 > div.loca_step1_cont > ul > li > a')"
   ]
  },
  {
   "cell_type": "code",
   "execution_count": 192,
   "metadata": {},
   "outputs": [],
   "source": [
    "sido[0].click()"
   ]
  },
  {
   "cell_type": "markdown",
   "metadata": {},
   "source": [
    "## 전체버튼 클릭"
   ]
  },
  {
   "cell_type": "code",
   "execution_count": 193,
   "metadata": {},
   "outputs": [],
   "source": [
    "# 세종은 전체버튼이 없음\n",
    "try:\n",
    "    driver.find_element_by_css_selector('#mCSB_2_container > ul > li:nth-child(1) > a').click()\n",
    "except:\n",
    "    pass"
   ]
  },
  {
   "cell_type": "markdown",
   "metadata": {},
   "source": [
    "## 이름, 주소, 코드, 위도, 경도 추출"
   ]
  },
  {
   "cell_type": "code",
   "execution_count": 194,
   "metadata": {},
   "outputs": [
    {
     "name": "stdout",
     "output_type": "stream",
     "text": [
      "530\n"
     ]
    }
   ],
   "source": [
    "html = driver.page_source\n",
    "soup = BeautifulSoup(html, 'html.parser')\n",
    "\n",
    "Stores = soup.select('#mCSB_3_container > ul > li')\n",
    "print(len(Stores))"
   ]
  },
  {
   "cell_type": "code",
   "execution_count": 277,
   "metadata": {},
   "outputs": [
    {
     "data": {
      "text/plain": [
       "<li class=\"quickResultLstCon\" data-code=\"3627\" data-hlytag=\"null\" data-index=\"0\" data-lat=\"36.494878\" data-long=\"127.255384\" data-name=\"세종다정DT\" data-storecd=\"1505\" style=\"background:#fff\"> <strong>세종다정DT  <img alt=\"\" class=\"setStoreFavBtn mCS_img_loaded\" data-my_siren_order_store_yn=\"N\" data-name=\"세종다정DT\" data-store=\"1505\" data-yn=\"N\" src=\"//image.istarbucks.co.kr/common/img/store/icon_fav_off.png\"/></strong> <p class=\"result_details\">세종특별자치시 다정북로 219 (다정동)<br/>1522-3232</p> <i class=\"pin_generalDT\">리저브 매장 2번</i></li>"
      ]
     },
     "execution_count": 277,
     "metadata": {},
     "output_type": "execute_result"
    }
   ],
   "source": [
    "Stores[0]"
   ]
  },
  {
   "cell_type": "code",
   "execution_count": 196,
   "metadata": {},
   "outputs": [
    {
     "data": {
      "text/plain": [
       "'역삼아레나빌딩'"
      ]
     },
     "execution_count": 196,
     "metadata": {},
     "output_type": "execute_result"
    }
   ],
   "source": [
    "# 이름 추출\n",
    "name = Stores[0].find('strong').get_text()\n",
    "name = name.strip()\n",
    "name"
   ]
  },
  {
   "cell_type": "code",
   "execution_count": 283,
   "metadata": {},
   "outputs": [
    {
     "data": {
      "text/plain": [
       "'세종특별자치시 다정북로 219 (다정동)'"
      ]
     },
     "execution_count": 283,
     "metadata": {},
     "output_type": "execute_result"
    }
   ],
   "source": [
    "# 주소 추출\n",
    "address = Stores[0].find('p', attrs={'class':'result_details'}).get_text()\n",
    "\n",
    "# 전화번호 제거\n",
    "address = re.sub('\\d+-\\d+', '', address)\n",
    "address"
   ]
  },
  {
   "cell_type": "code",
   "execution_count": 197,
   "metadata": {},
   "outputs": [
    {
     "name": "stdout",
     "output_type": "stream",
     "text": [
      "data-code=\"3762\n"
     ]
    },
    {
     "data": {
      "text/plain": [
       "'3762'"
      ]
     },
     "execution_count": 197,
     "metadata": {},
     "output_type": "execute_result"
    }
   ],
   "source": [
    "# '매장코드 추출' -> 나중에 js함수 구동할 때 필요\n",
    "code = re.search(r'data-code=\"\\d+', str(Stores[0])).group()\n",
    "print(code)\n",
    "code = code[11:]\n",
    "code"
   ]
  },
  {
   "cell_type": "code",
   "execution_count": 198,
   "metadata": {},
   "outputs": [
    {
     "name": "stdout",
     "output_type": "stream",
     "text": [
      "data-lat=\"37.501087\n"
     ]
    },
    {
     "data": {
      "text/plain": [
       "'37.501087'"
      ]
     },
     "execution_count": 198,
     "metadata": {},
     "output_type": "execute_result"
    }
   ],
   "source": [
    "# 위도 추출\n",
    "lat = re.search(r'data-lat=\"\\d+\\.+\\d+', str(Stores[0])).group()\n",
    "print(lat)\n",
    "lat = lat[10:]\n",
    "lat"
   ]
  },
  {
   "cell_type": "code",
   "execution_count": 199,
   "metadata": {},
   "outputs": [
    {
     "name": "stdout",
     "output_type": "stream",
     "text": [
      "data-long=\"127.043069\n"
     ]
    },
    {
     "data": {
      "text/plain": [
       "'127.043069'"
      ]
     },
     "execution_count": 199,
     "metadata": {},
     "output_type": "execute_result"
    }
   ],
   "source": [
    "# 경도 추출\n",
    "long = re.search(r'data-long=\"\\d+\\.+\\d+', str(Stores[0])).group()\n",
    "print(long)\n",
    "long = long[11:]\n",
    "long"
   ]
  },
  {
   "cell_type": "markdown",
   "metadata": {},
   "source": [
    "## 매장코드별 js함수 구동"
   ]
  },
  {
   "cell_type": "code",
   "execution_count": 285,
   "metadata": {},
   "outputs": [],
   "source": [
    "driver.execute_script(\"getStoreDetail('%s')\" % code)"
   ]
  },
  {
   "cell_type": "markdown",
   "metadata": {},
   "source": [
    "## 정보 가져오기"
   ]
  },
  {
   "cell_type": "code",
   "execution_count": 306,
   "metadata": {},
   "outputs": [],
   "source": [
    "html_2 = driver.page_source\n",
    "soup_2 = BeautifulSoup(html_2, 'html.parser')"
   ]
  },
  {
   "cell_type": "markdown",
   "metadata": {},
   "source": [
    "### 타입, 서비스, 위치_및_시설 가져오기"
   ]
  },
  {
   "cell_type": "code",
   "execution_count": 286,
   "metadata": {},
   "outputs": [],
   "source": [
    "# 서비스 딕셔너리 생성 -> 전역으로 설정할 것\n",
    "type_Dict = {'01': '스타벅스 리저브',\n",
    "            '02' : '커뮤니티 스토어',\n",
    "            '03' : '드라이브 스루'}\n",
    "\n",
    "serv_Dict = {'04' : '주차',\n",
    "            '23' : '블론드',\n",
    "            '22' : '피지오',\n",
    "            '18' : '나이트로 콜드 브루 커피',\n",
    "            '20' : '현금없는 매장',\n",
    "            '05' : '외화 결제',\n",
    "            '24' : '식약처 위생등급제 인증'}\n",
    "\n",
    "wich_Dict = {'07' : '공항내',\n",
    "            '09' : '해안가',\n",
    "            '08' : '대학가',\n",
    "            '12' : '터미널/기차역',\n",
    "            '11' : '리조트',\n",
    "            '13' : '병원',\n",
    "            '10' : '입점',\n",
    "            '14' : '지하철 인접',\n",
    "            '19' : '장애인 편의시설',\n",
    "            '21' : '공기청정기'}"
   ]
  },
  {
   "cell_type": "code",
   "execution_count": 307,
   "metadata": {},
   "outputs": [
    {
     "data": {
      "text/plain": [
       "[<img class=\"mCS_img_loaded\" src=\"/common/img/store/store_icon/icon04.png\"/>,\n",
       " <img class=\"mCS_img_loaded\" src=\"/common/img/store/store_icon/icon20.png\"/>,\n",
       " <img class=\"mCS_img_loaded\" src=\"/common/img/store/store_icon/icon22.png\"/>,\n",
       " <img class=\"mCS_img_loaded\" src=\"//image.istarbucks.co.kr/upload/common/img/icon/icon23.png\"/>,\n",
       " <img class=\"mCS_img_loaded\" src=\"/common/img/store/store_icon/icon19.png\"/>]"
      ]
     },
     "execution_count": 307,
     "metadata": {},
     "output_type": "execute_result"
    }
   ],
   "source": [
    "# 타입, 서비스, 위치_및_시설 아이콘 가져오기\n",
    "icons = soup_2.select('div.shopArea_infoWrap > dl > dd > span > img')\n",
    "icons"
   ]
  },
  {
   "cell_type": "code",
   "execution_count": 291,
   "metadata": {},
   "outputs": [
    {
     "data": {
      "text/plain": [
       "['04', '20', '22', '23', '19']"
      ]
     },
     "execution_count": 291,
     "metadata": {},
     "output_type": "execute_result"
    }
   ],
   "source": [
    "# 파일명 추출\n",
    "icons = re.findall(r'icon\\d+\\.\\w+', str(icons))\n",
    "icons\n",
    "\n",
    "# 번호만 재추출\n",
    "icon_number = re.findall(r'\\d{2}', str(icons))\n",
    "icon_number"
   ]
  },
  {
   "cell_type": "code",
   "execution_count": 292,
   "metadata": {},
   "outputs": [],
   "source": [
    "매장유형_temp = []\n",
    "서비스_temp = []\n",
    "위치_및_시설_temp = []\n",
    "\n",
    "for k in icon_number:\n",
    "    # 매장유형이 적혀져있는 경우\n",
    "    if '01' or '02' or '03' in icon_number:\n",
    "        if k in type_Dict.keys():\n",
    "            매장유형_temp.append(type_Dict[k])\n",
    "        elif k in serv_Dict.keys():\n",
    "            서비스_temp.append(serv_Dict[k])\n",
    "        else:\n",
    "            위치_및_시설_temp.append(wich_Dict[k])\n",
    "        \n",
    "    # 매장유형이 적혀져있지 않은 경우\n",
    "    else:\n",
    "        if k in serv_Dict.keys():\n",
    "            서비스_temp.append(serv_Dict[k])\n",
    "        else:\n",
    "            위치_및_시설_temp.append(wich_Dict[k])"
   ]
  },
  {
   "cell_type": "code",
   "execution_count": 293,
   "metadata": {},
   "outputs": [
    {
     "data": {
      "text/plain": [
       "''"
      ]
     },
     "execution_count": 293,
     "metadata": {},
     "output_type": "execute_result"
    }
   ],
   "source": [
    "', '.join(매장유형_temp)"
   ]
  },
  {
   "cell_type": "code",
   "execution_count": 295,
   "metadata": {},
   "outputs": [
    {
     "data": {
      "text/plain": [
       "'주차, 현금없는 매장, 피지오, 블론드'"
      ]
     },
     "execution_count": 295,
     "metadata": {},
     "output_type": "execute_result"
    }
   ],
   "source": [
    "', '.join(서비스_temp)"
   ]
  },
  {
   "cell_type": "code",
   "execution_count": 298,
   "metadata": {},
   "outputs": [
    {
     "data": {
      "text/plain": [
       "'장애인 편의시설'"
      ]
     },
     "execution_count": 298,
     "metadata": {},
     "output_type": "execute_result"
    }
   ],
   "source": [
    "', '.join(위치_및_시설_temp)"
   ]
  },
  {
   "cell_type": "code",
   "execution_count": 335,
   "metadata": {
    "scrolled": false
   },
   "outputs": [],
   "source": [
    "try:\n",
    "    driver.implicitly_wait(10)\n",
    "    driver.find_element_by_css_selector('div.shopArea_pop01.isStoreBizViewWrap > p').click()\n",
    "except:\n",
    "    try:\n",
    "        driver.implicitly_wait(10)\n",
    "        driver.find_element_by_xpath('//*[@id=\"container\"]/div/p').click()\n",
    "    except:\n",
    "        pass"
   ]
  },
  {
   "cell_type": "markdown",
   "metadata": {},
   "source": [
    "# 스타벅스 매장 크롤링하기 - 메인코드"
   ]
  },
  {
   "cell_type": "code",
   "execution_count": 346,
   "metadata": {
    "scrolled": false
   },
   "outputs": [
    {
     "name": "stdout",
     "output_type": "stream",
     "text": [
      "시/도를 입력하세요 : 서울\n",
      "[1] : 역삼아레나빌딩 is Crawled\n",
      "[2] : 논현역사거리 is Crawled\n",
      "[3] : 신사역성일빌딩 is Crawled\n",
      "[4] : 국기원사거리 is Crawled\n",
      "[5] : 스탈릿대치R is Crawled\n",
      "[6] : 봉은사역 is Crawled\n",
      "[7] : 압구정윤성빌딩 is Crawled\n",
      "[8] : 코엑스별마당 is Crawled\n",
      "[9] : 삼성역섬유센터R is Crawled\n",
      "[10] : 압구정R is Crawled\n",
      "[11] : 수서역R is Crawled\n",
      "[12] : 양재강남빌딩R is Crawled\n",
      "[13] : 선릉동신빌딩R is Crawled\n",
      "[14] : 봉은사로선정릉 is Crawled\n",
      "[15] : 강남오거리 is Crawled\n",
      "[16] : 스타필드코엑스몰R is Crawled\n",
      "[17] : 강남구청정문 is Crawled\n",
      "[18] : 도곡공원 is Crawled\n",
      "[19] : 강남R is Crawled\n",
      "[20] : 대치은마사거리 is Crawled\n",
      "[21] : 청담영동대로 is Crawled\n",
      "[22] : 압구정 is Crawled\n",
      "[23] : 신사가로수 is Crawled\n",
      "[24] : 청담스타R is Crawled\n",
      "[25] : 강남우성 is Crawled\n",
      "[26] : 학동사거리 is Crawled\n",
      "[27] : 대치사거리 is Crawled\n",
      "[28] : 포스코사거리 is Crawled\n",
      "[29] : 을지병원사거리 is Crawled\n",
      "[30] : 신사역 is Crawled\n",
      "[31] : 도곡역 is Crawled\n",
      "[32] : 서울세관사거리 is Crawled\n",
      "[33] : 청담사거리 is Crawled\n",
      "[34] : 한티역 is Crawled\n",
      "[35] : 역삼초교사거리 is Crawled\n",
      "[36] : 코엑스몰 is Crawled\n",
      "[37] : 가로수길 is Crawled\n",
      "[38] : 역삼대로 is Crawled\n",
      "[39] : 역삼포스코 is Crawled\n",
      "[40] : 강남대로 is Crawled\n",
      "[41] : 청담 is Crawled\n",
      "[42] : 삼성도심공항 is Crawled\n",
      "[43] : 삼성교 is Crawled\n",
      "[44] : 학동역 is Crawled\n",
      "[45] : 대치 is Crawled\n",
      "[46] : 기술센터 is Crawled\n",
      "[47] : SSG마켓도곡R is Crawled\n",
      "[48] : 삼성 is Crawled\n",
      "[49] : 선릉세화빌딩 is Crawled\n",
      "[50] : 압구정역 is Crawled\n",
      "[51] : 압구정로 is Crawled\n",
      "[52] : 구역삼사거리 is Crawled\n",
      "[53] : 큰길타워 is Crawled\n",
      "[54] : 강남구청역 is Crawled\n",
      "[55] : 대치역 is Crawled\n",
      "[56] : 포이 is Crawled\n",
      "[57] : 아크플레이스 is Crawled\n",
      "[58] : 학여울역 is Crawled\n",
      "[59] : 선정릉역 is Crawled\n",
      "[60] : 삼성현대힐 is Crawled\n",
      "[61] : GS타워 is Crawled\n",
      "[62] : 압구정미소 is Crawled\n",
      "[63] : 선릉역 is Crawled\n",
      "[64] : 수서 is Crawled\n",
      "[65] : 코엑스사거리 is Crawled\n",
      "[66] : 역삼럭키 is Crawled\n",
      "[67] : 차병원사거리 is Crawled\n",
      "[68] : 청담공원 is Crawled\n",
      "[69] : 신압구정 is Crawled\n",
      "[70] : 아크로힐스논현 is Crawled\n",
      "[71] : 뱅뱅사거리 is Crawled\n",
      "[72] : 강남비젼타워 is Crawled\n",
      "[73] : 역삼역 is Crawled\n",
      "[74] : 압구정로데오역 is Crawled\n",
      "[75] : 르네상스사거리 is Crawled\n",
      "[76] : 포스코 is Crawled\n",
      "[77] : 선릉로 is Crawled\n",
      "[78] : 논현힐탑 is Crawled\n",
      "[79] : 도산가로수길 is Crawled\n",
      "[80] : 코엑스아셈타워 is Crawled\n",
      "[81] : 대치삼성프라자 is Crawled\n",
      "[82] : 미아뉴타운 is Crawled\n",
      "[83] : 강북구청사거리 is Crawled\n",
      "[84] : 미아사거리역 is Crawled\n",
      "[85] : 수유역 is Crawled\n",
      "[86] : 미아역 is Crawled\n",
      "[87] : 발산역사거리 is Crawled\n",
      "[88] : 마곡역 is Crawled\n",
      "[89] : 우장산역 is Crawled\n",
      "[90] : 마곡사이언스타워R is Crawled\n",
      "[91] : 방화DT is Crawled\n",
      "[92] : 마곡나루역 is Crawled\n",
      "[93] : 마곡GMG is Crawled\n",
      "[94] : 가양역 is Crawled\n",
      "[95] : 화곡DT is Crawled\n",
      "[96] : 양천향교역 is Crawled\n",
      "[97] : 화곡동 is Crawled\n",
      "[98] : 등촌 is Crawled\n",
      "[99] : 염창역 is Crawled\n",
      "[100] : 발산역 is Crawled\n",
      "[101] : 가양이마트 is Crawled\n",
      "[102] : 까치산역 is Crawled\n",
      "[103] : 낙성대역 is Crawled\n",
      "[104] : 관악서울대입구R is Crawled\n",
      "[105] : 신림DT is Crawled\n",
      "[106] : 서울대역 is Crawled\n",
      "[107] : 낙성대DT is Crawled\n",
      "[108] : 사당 is Crawled\n",
      "[109] : 보라매대교 is Crawled\n",
      "[110] : 신림사거리 is Crawled\n",
      "[111] : 신림 is Crawled\n",
      "[112] : 신림역포도몰 is Crawled\n",
      "[113] : 서울대입구역 is Crawled\n",
      "[114] : 건국대 is Crawled\n",
      "[115] : 어린이대공원역 is Crawled\n",
      "[116] : 아차산역 is Crawled\n",
      "[117] : 올림픽대교북단 is Crawled\n",
      "[118] : 구의DT is Crawled\n",
      "[119] : 자양사거리 is Crawled\n",
      "[120] : 군자역 is Crawled\n",
      "[121] : 광나루 is Crawled\n",
      "[122] : 건대스타시티 is Crawled\n",
      "[123] : 자양 is Crawled\n",
      "[124] : 강변역 is Crawled\n",
      "[125] : 건대입구 is Crawled\n",
      "[126] : 구의역 is Crawled\n",
      "[127] : 광장 is Crawled\n",
      "[128] : 건국클래식 is Crawled\n",
      "[129] : 자양이마트 is Crawled\n",
      "[130] : 금천구청역 is Crawled\n",
      "[131] : 가산에스케이 is Crawled\n",
      "[132] : 독산사거리 is Crawled\n",
      "[133] : 금천시흥 is Crawled\n",
      "[134] : 가산디지털단지역 is Crawled\n",
      "[135] : 금천독산 is Crawled\n",
      "[136] : 가산디지털 is Crawled\n",
      "[137] : W-Mall is Crawled\n",
      "[138] : 마리오아울렛 is Crawled\n",
      "[139] : 가산브이타워 is Crawled\n",
      "[140] : 가산그레이트 is Crawled\n",
      "[141] : 월계역 is Crawled\n",
      "[142] : 월계트레이더스 is Crawled\n",
      "[143] : 상계초교사거리 is Crawled\n",
      "[144] : 공릉DT is Crawled\n",
      "[145] : 노원마들역 is Crawled\n",
      "[146] : 공릉역 is Crawled\n",
      "[147] : 은행사거리 is Crawled\n",
      "[148] : 노원KT is Crawled\n",
      "[149] : 광운대 is Crawled\n",
      "[150] : 중계역 is Crawled\n",
      "[151] : 노원역 is Crawled\n",
      "[152] : 월계이마트 is Crawled\n",
      "[153] : 창동이마트 is Crawled\n",
      "[154] : 쌍문역 is Crawled\n",
      "[155] : 노량진동 is Crawled\n",
      "[156] : 남성역 is Crawled\n",
      "[157] : 상도역 is Crawled\n",
      "[158] : 보라매공원R is Crawled\n",
      "[159] : 이수자이 is Crawled\n",
      "[160] : 노량진역 is Crawled\n",
      "[161] : 신대방삼거리역 is Crawled\n",
      "[162] : 중앙대 is Crawled\n",
      "[163] : 숭실대입구역 is Crawled\n",
      "[164] : 숭실대 is Crawled\n",
      "[165] : 사당역 is Crawled\n",
      "[166] : 서강대프라자 is Crawled\n",
      "[167] : 상암YTN is Crawled\n",
      "[168] : 마포용강동 is Crawled\n",
      "[169] : 홍대입구역사거리R is Crawled\n",
      "[170] : 마포경찰서후문 is Crawled\n",
      "[171] : 공덕 is Crawled\n",
      "[172] : 합정폴리스R is Crawled\n",
      "[173] : 홍대공항철도역 is Crawled\n",
      "[174] : 마포염리 is Crawled\n",
      "[175] : 서강광흥창역 is Crawled\n",
      "[176] : 합정 is Crawled\n",
      "[177] : 서강대흥역 is Crawled\n",
      "[178] : 서교동사거리 is Crawled\n",
      "[179] : 상암사보이시티 is Crawled\n",
      "[180] : 신촌오거리 is Crawled\n",
      "[181] : 상암디지털큐브 is Crawled\n",
      "[182] : 상수역 is Crawled\n",
      "[183] : 공덕오거리 is Crawled\n",
      "[184] : 서교 is Crawled\n",
      "[185] : 서강대 is Crawled\n",
      "[186] : 상암MBC is Crawled\n",
      "[187] : 홍대역 is Crawled\n",
      "[188] : 동교 is Crawled\n",
      "[189] : 애오개역 is Crawled\n",
      "[190] : 홍대갤러리 is Crawled\n",
      "[191] : 상암DMC is Crawled\n",
      "[192] : 마포일진빌딩 is Crawled\n",
      "[193] : 마포아크로 is Crawled\n",
      "[194] : 홍대삼거리 is Crawled\n",
      "[195] : 망원역 is Crawled\n",
      "[196] : 마포이마트 is Crawled\n",
      "[197] : 합정메세나몰 is Crawled\n",
      "[198] : 가재울뉴타운 is Crawled\n",
      "[199] : 남가좌사거리 is Crawled\n",
      "[200] : 신촌역 is Crawled\n",
      "[201] : 연희동 is Crawled\n",
      "[202] : 아현역 is Crawled\n",
      "[203] : 홍제역 is Crawled\n",
      "[204] : 연세백양로 is Crawled\n",
      "[205] : 연희DT is Crawled\n",
      "[206] : 경기대 is Crawled\n",
      "[207] : 신촌 is Crawled\n",
      "[208] : 이대R is Crawled\n",
      "[209] : 연세종합관 is Crawled\n",
      "[210] : 이대ECC is Crawled\n",
      "[211] : 연대 is Crawled\n",
      "[212] : 신촌아트레온 is Crawled\n",
      "[213] : 충정로역 is Crawled\n",
      "[214] : 연대동문 is Crawled\n",
      "[215] : 신촌명물거리 is Crawled\n",
      "[216] : 충정타워 is Crawled\n",
      "[217] : 방배로 is Crawled\n",
      "[218] : 강남교보타워R is Crawled\n",
      "[219] : 방배다이치빌딩 is Crawled\n",
      "[220] : 센트럴F1 is Crawled\n",
      "[221] : 서초역이화빌딩 is Crawled\n",
      "[222] : 서초구청 is Crawled\n",
      "[223] : 서초우성사거리 is Crawled\n",
      "[224] : 이수역사거리 is Crawled\n",
      "[225] : 강남대로신사 is Crawled\n",
      "[226] : 서울고속터미널 is Crawled\n",
      "[227] : 강남대로논현R is Crawled\n",
      "[228] : 방배 is Crawled\n",
      "[229] : 방배카페거리 is Crawled\n",
      "[230] : 서초법원 is Crawled\n",
      "[231] : 청계산입구역 is Crawled\n",
      "[232] : 사당로데오 is Crawled\n",
      "[233] : 파미에파크R is Crawled\n",
      "[234] : 교대역 is Crawled\n",
      "[235] : 양재역 is Crawled\n",
      "[236] : 논현역 is Crawled\n",
      "[237] : 이수역 is Crawled\n",
      "[238] : 내방역 is Crawled\n",
      "[239] : 서초파라곤 is Crawled\n",
      "[240] : 서울아트센터 is Crawled\n",
      "[241] : 서초중앙로 is Crawled\n",
      "[242] : 센트럴시티 is Crawled\n",
      "[243] : 강남삼성타운 is Crawled\n",
      "[244] : 방배역 is Crawled\n",
      "[245] : 반포역 is Crawled\n",
      "[246] : 남부터미널 is Crawled\n",
      "[247] : 뉴코아강남 is Crawled\n",
      "[248] : 강남2 is Crawled\n",
      "[249] : 교대 is Crawled\n",
      "[250] : 하이브랜드 is Crawled\n",
      "[251] : 신논현역 is Crawled\n",
      "[252] : 영동2교 is Crawled\n",
      "[253] : 남부터미널2 is Crawled\n",
      "[254] : 서래마을입구 is Crawled\n",
      "[255] : 몬테소리 is Crawled\n",
      "[256] : 서초역 is Crawled\n",
      "[257] : 예술의전당 is Crawled\n",
      "[258] : 교대법원 is Crawled\n",
      "[259] : 강남GT타워 is Crawled\n",
      "[260] : 서초동 is Crawled\n",
      "[261] : 서울교대 is Crawled\n",
      "[262] : 강남에비뉴 is Crawled\n",
      "[263] : 서울웨이브아트센터 is Crawled\n",
      "[264] : 길음역 is Crawled\n",
      "[265] : 미아이마트 is Crawled\n",
      "[266] : 종암DT is Crawled\n",
      "[267] : 미아 is Crawled\n",
      "[268] : 성신여대정문 is Crawled\n",
      "[269] : 종암 is Crawled\n",
      "[270] : 삼선교 is Crawled\n",
      "[271] : 월곡역 is Crawled\n",
      "[272] : 고대 is Crawled\n",
      "[273] : 현대미아 is Crawled\n",
      "[274] : 성신여대 is Crawled\n",
      "[275] : 안암역 is Crawled\n",
      "[276] : 한성대입구역 is Crawled\n",
      "[277] : 송파나루역DT is Crawled\n",
      "[278] : 송파헬리오시티 is Crawled\n",
      "[279] : 잠실시그마타워 is Crawled\n",
      "[280] : 문정법원로R is Crawled\n",
      "[281] : 송파개롱역 is Crawled\n",
      "[282] : 문정하비오 is Crawled\n",
      "[283] : 문정역 is Crawled\n",
      "[284] : 잠실대교남단R is Crawled\n",
      "[285] : 송파위례 is Crawled\n",
      "[286] : 송파방이DT is Crawled\n",
      "[287] : 송파구청 is Crawled\n",
      "[288] : 올림픽평화의문 is Crawled\n",
      "[289] : 송파아이파크 is Crawled\n",
      "[290] : 송파사거리 is Crawled\n",
      "[291] : 석촌서호 is Crawled\n",
      "[292] : 문정로데오 is Crawled\n",
      "[293] : 올림픽훼미리 is Crawled\n",
      "[294] : 올림픽공원남문 is Crawled\n",
      "[295] : 방이역 is Crawled\n",
      "[296] : 석촌호수 is Crawled\n",
      "[297] : 잠실푸르지오월드 is Crawled\n",
      "[298] : 잠실새내역 is Crawled\n",
      "[299] : 잠실역 is Crawled\n",
      "[300] : 갤러리아팰리스 is Crawled\n",
      "[301] : 아시아선수촌 is Crawled\n",
      "[302] : 올림픽아파트 is Crawled\n",
      "[303] : 가락본동 is Crawled\n",
      "[304] : 석촌역 is Crawled\n",
      "[305] : 가락시장역 is Crawled\n",
      "[306] : 가든파이브 is Crawled\n",
      "[307] : 몽촌토성역 is Crawled\n",
      "[308] : 송파마천사거리DT is Crawled\n",
      "[309] : 목동파리공원 is Crawled\n",
      "[310] : 등촌역 is Crawled\n",
      "[311] : 목동행복한 is Crawled\n",
      "[312] : 신정DT is Crawled\n",
      "[313] : 목동역 is Crawled\n",
      "[314] : 목동오목로 is Crawled\n",
      "[315] : 목동8단지 is Crawled\n",
      "[316] : 오목교역 is Crawled\n",
      "[317] : 신월IC DT is Crawled\n",
      "[318] : 목동7단지 is Crawled\n",
      "[319] : 목동5단지 is Crawled\n",
      "[320] : 목동 is Crawled\n",
      "[321] : 현대목동 is Crawled\n",
      "[322] : 목동파라곤 is Crawled\n",
      "[323] : 목동트라팰리스 is Crawled\n",
      "[324] : 타임스퀘어R is Crawled\n",
      "[325] : 샛강역 is Crawled\n",
      "[326] : 영등포역 is Crawled\n",
      "[327] : 당산대로 is Crawled\n",
      "[328] : 여의도IFC몰(L1)R is Crawled\n",
      "[329] : 여의도KBS R is Crawled\n",
      "[330] : 여의도화재보험 is Crawled\n",
      "[331] : 국회대로 is Crawled\n",
      "[332] : 영등포KT is Crawled\n",
      "[333] : 여의도공원R is Crawled\n",
      "[334] : 국회의사당역 is Crawled\n",
      "[335] : 선유도역 is Crawled\n"
     ]
    },
    {
     "name": "stdout",
     "output_type": "stream",
     "text": [
      "[336] : 여의도역R is Crawled\n",
      "[337] : 선유동이레빌딩 is Crawled\n",
      "[338] : 동여의도 is Crawled\n",
      "[339] : 여의도ABL타워 is Crawled\n",
      "[340] : 영등포신길DT is Crawled\n",
      "[341] : 문래역 is Crawled\n",
      "[342] : 당산 is Crawled\n",
      "[343] : 여의도한양증권 is Crawled\n",
      "[344] : 여의도일신 is Crawled\n",
      "[345] : 신세계타임스퀘어B2 is Crawled\n",
      "[346] : 하이테크시티 is Crawled\n",
      "[347] : 여의도 is Crawled\n",
      "[348] : 롯데캐슬여의도 is Crawled\n",
      "[349] : 문래동 is Crawled\n",
      "[350] : 신세계타임스퀘어1F is Crawled\n",
      "[351] : 여의도호성 is Crawled\n",
      "[352] : 타임스퀘어B2 is Crawled\n",
      "[353] : 영등포본동 is Crawled\n",
      "[354] : 타임스퀘어2F is Crawled\n",
      "[355] : 여의도의사당 is Crawled\n",
      "[356] : 여의도IFC(1F) is Crawled\n",
      "[357] : 당산역사거리 is Crawled\n",
      "[358] : 불광역 is Crawled\n",
      "[359] : 구파발사거리 is Crawled\n",
      "[360] : 연신내역사거리 is Crawled\n",
      "[361] : 연신내 is Crawled\n",
      "[362] : 구파발역 is Crawled\n",
      "[363] : 은평구청입구 is Crawled\n",
      "[364] : 은평이마트 is Crawled\n",
      "[365] : 구산역 is Crawled\n",
      "[366] : 연합뉴스 is Crawled\n",
      "[367] : 혜화역 is Crawled\n",
      "[368] : 경희궁로 is Crawled\n",
      "[369] : 강북삼성병원 is Crawled\n",
      "[370] : 종로평창동 is Crawled\n",
      "[371] : 광화문우체국 is Crawled\n",
      "[372] : 더종로R is Crawled\n",
      "[373] : 독립문역 is Crawled\n",
      "[374] : 정부서울청사R is Crawled\n",
      "[375] : 동묘앞역 is Crawled\n",
      "[376] : 종로구청 is Crawled\n",
      "[377] : 북촌로 is Crawled\n",
      "[378] : 종로수송 is Crawled\n",
      "[379] : 새문안로 is Crawled\n",
      "[380] : 안국 is Crawled\n",
      "[381] : 삼청동 is Crawled\n",
      "[382] : 광화문D타워 is Crawled\n",
      "[383] : 서울극장 is Crawled\n",
      "[384] : 적선 is Crawled\n",
      "[385] : 인사 is Crawled\n",
      "[386] : 영풍문고 is Crawled\n",
      "[387] : 광화문R is Crawled\n",
      "[388] : 성대입구 is Crawled\n",
      "[389] : 스페이스본 is Crawled\n",
      "[390] : 주얼리시티 is Crawled\n",
      "[391] : 종각 is Crawled\n",
      "[392] : 광교 is Crawled\n",
      "[393] : 동숭로아트 is Crawled\n",
      "[394] : 종로관철 is Crawled\n",
      "[395] : 경복궁역 is Crawled\n",
      "[396] : 이마빌딩 is Crawled\n",
      "[397] : 마로니에공원 is Crawled\n",
      "[398] : 종로3가 is Crawled\n",
      "[399] : 대학로 is Crawled\n",
      "[400] : 경복궁사거리 is Crawled\n",
      "[401] : 종로관수 is Crawled\n",
      "[402] : 동숭길입구 is Crawled\n",
      "[403] : 서울대치과병원 is Crawled\n",
      "[404] : 숭례문북창 is Crawled\n",
      "[405] : 을지로4가역 is Crawled\n",
      "[406] : 동대문두타 is Crawled\n",
      "[407] : 대한상공회의소R is Crawled\n",
      "[408] : 명동센트럴 is Crawled\n",
      "[409] : 국립중앙의료원 is Crawled\n",
      "[410] : 동국대 is Crawled\n",
      "[411] : 신세계본점5F is Crawled\n",
      "[412] : 을지로내외빌딩R is Crawled\n",
      "[413] : 대우재단빌딩 is Crawled\n",
      "[414] : 동대문공원 is Crawled\n",
      "[415] : 을지로국제빌딩 is Crawled\n",
      "[416] : 동대입구역 is Crawled\n",
      "[417] : 신당역사거리 is Crawled\n",
      "[418] : 연세세브란스 is Crawled\n",
      "[419] : 회현역 is Crawled\n",
      "[420] : 을지로경기빌딩 is Crawled\n",
      "[421] : 을지로2가 is Crawled\n",
      "[422] : 신세계본점6F is Crawled\n",
      "[423] : 서울중앙우체국 is Crawled\n",
      "[424] : 한국프레스센터 is Crawled\n",
      "[425] : 명동중앙로 is Crawled\n",
      "[426] : 약수역 is Crawled\n",
      "[427] : 중구저동 is Crawled\n",
      "[428] : 명동길 is Crawled\n",
      "[429] : 소공로북창 is Crawled\n",
      "[430] : 서소문로 is Crawled\n",
      "[431] : 신당역 is Crawled\n",
      "[432] : 명동메트로 is Crawled\n",
      "[433] : 숭례문 is Crawled\n",
      "[434] : 순화동더샵 is Crawled\n",
      "[435] : 대한극장 is Crawled\n",
      "[436] : 환구단 is Crawled\n",
      "[437] : 무교동 is Crawled\n",
      "[438] : 문화일보 is Crawled\n",
      "[439] : 태평로 is Crawled\n",
      "[440] : 퍼시픽타워 is Crawled\n",
      "[441] : 남산단암 is Crawled\n",
      "[442] : 황학캐슬 is Crawled\n",
      "[443] : 서소문 is Crawled\n",
      "[444] : 을지로삼화타워 is Crawled\n",
      "[445] : 소공로 is Crawled\n",
      "[446] : 서소문배재 is Crawled\n",
      "[447] : 을지로한국빌딩 is Crawled\n",
      "[448] : 순화동에이스 is Crawled\n",
      "[449] : 시청 is Crawled\n",
      "[450] : 시청플러스 is Crawled\n",
      "[451] : 충무로역 is Crawled\n",
      "[452] : 명동역 is Crawled\n",
      "[453] : 남산스테이트 is Crawled\n",
      "[454] : 명동입구 is Crawled\n",
      "[455] : 무교로 is Crawled\n",
      "[456] : 숭례문SG타워 is Crawled\n",
      "[457] : 명동남산 is Crawled\n",
      "[458] : 명일역 is Crawled\n",
      "[459] : 강동구청DT is Crawled\n",
      "[460] : 강동암사DT is Crawled\n",
      "[461] : 굽은다리역 is Crawled\n",
      "[462] : 강동역 is Crawled\n",
      "[463] : 둔촌동 is Crawled\n",
      "[464] : 천호로데오 is Crawled\n",
      "[465] : 천호이마트 is Crawled\n",
      "[466] : 길동역 is Crawled\n",
      "[467] : 상일동 is Crawled\n",
      "[468] : 올림픽공원북문 is Crawled\n",
      "[469] : 천호역 is Crawled\n",
      "[470] : 명일이마트 is Crawled\n",
      "[471] : 천호사거리 is Crawled\n",
      "[472] : 천호대로길동 is Crawled\n",
      "[473] : 신도림 is Crawled\n",
      "[474] : 구로디지털타워 is Crawled\n",
      "[475] : 오류동역 is Crawled\n",
      "[476] : 구로디지털로 is Crawled\n",
      "[477] : 신세계아이앤씨 is Crawled\n",
      "[478] : 구로에이스 is Crawled\n",
      "[479] : 구로하이엔드 is Crawled\n",
      "[480] : 현대디큐브2F is Crawled\n",
      "[481] : 구로호텔 is Crawled\n",
      "[482] : 현대디큐브B2 is Crawled\n",
      "[483] : 구로NC is Crawled\n",
      "[484] : 답십리역 is Crawled\n",
      "[485] : 경희대삼거리 is Crawled\n",
      "[486] : 외대정문 is Crawled\n",
      "[487] : 신설동역 is Crawled\n",
      "[488] : 회기역사거리 is Crawled\n",
      "[489] : 외대 is Crawled\n",
      "[490] : 장한평역 is Crawled\n",
      "[491] : 경희대 is Crawled\n",
      "[492] : 서울숲역 is Crawled\n",
      "[493] : 금호역 is Crawled\n",
      "[494] : 뚝섬역 is Crawled\n",
      "[495] : 황학사거리 is Crawled\n",
      "[496] : 성수역 is Crawled\n",
      "[497] : 상왕십리역 is Crawled\n",
      "[498] : 왕십리역 is Crawled\n",
      "[499] : 한양대 is Crawled\n",
      "[500] : 엔터식스 is Crawled\n",
      "[501] : 성수이마트 is Crawled\n",
      "[502] : 성수낙낙 is Crawled\n",
      "[503] : 엔터식스한양대 is Crawled\n",
      "[504] : 효창공원앞역 is Crawled\n",
      "[505] : 서울역서부 is Crawled\n",
      "[506] : 이태원역 is Crawled\n",
      "[507] : 한강진역R is Crawled\n",
      "[508] : 용산역써밋R is Crawled\n",
      "[509] : 이촌 is Crawled\n",
      "[510] : 신용산역 is Crawled\n",
      "[511] : 용산파크타워 is Crawled\n",
      "[512] : 남영동 is Crawled\n",
      "[513] : 한남동R is Crawled\n",
      "[514] : 서울타워 is Crawled\n",
      "[515] : 서울역동자동 is Crawled\n",
      "[516] : 순천향입구 is Crawled\n",
      "[517] : 숙대 is Crawled\n",
      "[518] : 동빙고 is Crawled\n",
      "[519] : 숙대입구역 is Crawled\n",
      "[520] : 용산아이파크몰 is Crawled\n",
      "[521] : 동부이촌동 is Crawled\n",
      "[522] : 용산해링턴스퀘어 is Crawled\n",
      "[523] : 용산리첸시아 is Crawled\n",
      "[524] : 상봉 is Crawled\n",
      "[525] : 중랑역 is Crawled\n",
      "[526] : 중랑구청 is Crawled\n",
      "[527] : 사가정역 is Crawled\n",
      "[528] : 상봉역 is Crawled\n",
      "[529] : 묵동이마트 is Crawled\n",
      "[530] : 묵동 is Crawled\n",
      "\n",
      "Crawling is done\n"
     ]
    }
   ],
   "source": [
    "from bs4 import BeautifulSoup\n",
    "from selenium import webdriver\n",
    "from selenium.webdriver.common.by import By\n",
    "from selenium.webdriver.support.ui import WebDriverWait\n",
    "from selenium.webdriver.support import expected_conditions as EC\n",
    "import pandas as pd\n",
    "import openpyxl\n",
    "import time\n",
    "import re # 매장코드, 위도, 경도 추출\n",
    "\n",
    "city = input('시/도를 입력하세요 : ')\n",
    "\n",
    "\"\"\" 전역변수 설정 \"\"\"\n",
    "city_Dict = {'서울':0,\n",
    "             '경기':1,\n",
    "             '광주':2,\n",
    "             '대구':3,\n",
    "             '대전':4,\n",
    "             '부산':5,\n",
    "             '울산':6,\n",
    "             '인천':7,\n",
    "             '강원':8,\n",
    "             '경남':9,\n",
    "             '경북':10,\n",
    "             '전남':11,\n",
    "             '전북':12,\n",
    "             '충남':13,\n",
    "             '충북':14,\n",
    "             '제주':15,\n",
    "             '세종':16}\n",
    "\n",
    "이름 = []\n",
    "매장코드 = []\n",
    "위도 = []\n",
    "경도 = []\n",
    "매장유형 = []\n",
    "서비스 = []\n",
    "위치_및_시설 = []\n",
    "주소 = []\n",
    "\n",
    "# 딕셔너리 생성 -> 전역으로 설정할 것\n",
    "type_Dict = {'01': '스타벅스 리저브',\n",
    "            '02' : '커뮤니티 스토어',\n",
    "            '03' : '드라이브 스루'}\n",
    "\n",
    "serv_Dict = {'04' : '주차',\n",
    "            '23' : '블론드',\n",
    "            '22' : '피지오',\n",
    "            '18' : '나이트로 콜드 브루 커피',\n",
    "            '20' : '현금없는 매장',\n",
    "            '05' : '외화 결제',\n",
    "            '24' : '식약처 위생등급제 인증'}\n",
    "\n",
    "wich_Dict = {'07' : '공항내',\n",
    "            '09' : '해안가',\n",
    "            '08' : '대학가',\n",
    "            '12' : '터미널/기차역',\n",
    "            '11' : '리조트',\n",
    "            '13' : '병원',\n",
    "            '10' : '입점',\n",
    "            '14' : '지하철 인접',\n",
    "            '19' : '장애인 편의시설',\n",
    "            '21' : '공기청정기'}\n",
    "\n",
    "count = 0\n",
    "\n",
    "wait = WebDriverWait(driver, 10)\n",
    "\n",
    "\n",
    "\"\"\" 기본 세팅 \"\"\"\n",
    "driver = webdriver.Chrome('C:/chromedriver.exe')\n",
    "\n",
    "# 메인 페이지 점속\n",
    "driver.get('https://www.starbucks.co.kr/store/store_map.do')\n",
    "\n",
    "# 지역검색버튼 클릭\n",
    "driver.implicitly_wait(10)\n",
    "driver.find_element_by_css_selector('#container > div > form > fieldset > div > section > article.find_store_cont > article > header.loca_search > h3 > a').click()\n",
    "\n",
    "# 시도버튼 클릭\n",
    "sido = driver.find_elements_by_css_selector('#container > div > form > fieldset > div > section > article.find_store_cont > article > article > div.loca_step1 > div.loca_step1_cont > ul > li > a')\n",
    "sido[city_Dict[city]].click()\n",
    "\n",
    "# 전체버튼 클릭\n",
    "# 세종은 전체버튼이 없음\n",
    "try:\n",
    "    driver.find_element_by_css_selector('#mCSB_2_container > ul > li:nth-child(1) > a').click()\n",
    "except:\n",
    "    pass\n",
    "time.sleep(5)\n",
    "\n",
    "\"\"\" 매장정보 불러오기 \"\"\"\n",
    "html = driver.page_source\n",
    "soup = BeautifulSoup(html, 'html.parser')\n",
    "\n",
    "Stores = soup.select('#mCSB_3_container > ul > li')\n",
    "\n",
    "\"\"\" 매장별 반복 \"\"\"\n",
    "for i in range(len(Stores)):\n",
    "    \"\"\" 이름, 주소, 코드, 위도, 경도 불러오기 \"\"\"\n",
    "    # 이름 추출\n",
    "    name = Stores[i].find('strong').get_text()\n",
    "    name = name.strip()\n",
    "    이름.append(name)\n",
    "    \n",
    "    # 주소 추출\n",
    "    address = Stores[i].find('p', attrs={'class':'result_details'}).get_text()\n",
    "\n",
    "    # 전화번호 제거\n",
    "    address = re.sub('\\d+-\\d+', '', address)\n",
    "    주소.append(address)\n",
    "\n",
    "    # '매장코드 추출' -> 나중에 js함수 구동할 때 필요\n",
    "    code = re.search(r'data-code=\"\\d+', str(Stores[i])).group()\n",
    "    code = code[11:]\n",
    "    매장코드.append(code)\n",
    "\n",
    "    # 위도 추출\n",
    "    lat = re.search(r'data-lat=\"\\d+\\.+\\d+', str(Stores[i])).group()\n",
    "    lat = lat[10:]\n",
    "    위도.append(lat)\n",
    "\n",
    "    # 경도 추출\n",
    "    long = re.search(r'data-long=\"\\d+\\.+\\d+', str(Stores[i])).group()\n",
    "    long = long[11:]\n",
    "    경도.append(long)\n",
    "\n",
    "    \"\"\" 매장코드별 js함수 구동 \"\"\"\n",
    "    time.sleep(1)\n",
    "    driver.execute_script(\"getStoreDetail('%s')\" % code)\n",
    "    \n",
    "    \"\"\" 정보들 가져오기 \"\"\"\n",
    "    time.sleep(2)\n",
    "    html_2 = driver.page_source\n",
    "    time.sleep(2)\n",
    "    soup_2 = BeautifulSoup(html_2, 'html.parser')\n",
    "\n",
    "    \"\"\" 타입, 서비스, 위치_및_시설 가져오기 \"\"\"\n",
    "    # 아이콘 가져오기\n",
    "    icons = soup_2.select('div.shopArea_infoWrap > dl > dd > span > img')\n",
    "    \n",
    "    # 파일명 추출\n",
    "    icons = re.findall(r'icon\\d+\\.\\w+', str(icons))\n",
    "    \n",
    "    # 번호만 재추출\n",
    "    icon_number = re.findall(r'\\d{2}', str(icons))\n",
    "\n",
    "    # 임시 리스트에 담았다 원래 변수에 한꺼번에 저장\n",
    "    매장유형_temp = []\n",
    "    서비스_temp = []\n",
    "    위치_및_시설_temp = []\n",
    "    \n",
    "    # 아이콘 추출\n",
    "    for k in icon_number:\n",
    "        # 매장유형이 적혀져있는 경우\n",
    "        if '01' or '02' or '03' in icon_number:\n",
    "            if k in type_Dict.keys():\n",
    "                매장유형_temp.append(type_Dict[k])\n",
    "            elif k in serv_Dict.keys():\n",
    "                서비스_temp.append(serv_Dict[k])\n",
    "            else:\n",
    "                위치_및_시설_temp.append(wich_Dict[k])\n",
    "\n",
    "        # 매장유형이 적혀져있지 않은 경우\n",
    "        else:\n",
    "            if k in serv_Dict.keys():\n",
    "                서비스_temp.append(serv_Dict[k])\n",
    "            else:\n",
    "                위치_및_시설_temp.append(wich_Dict[k])\n",
    "\n",
    "    매장유형.append(', '.join(매장유형_temp))\n",
    "    서비스.append(', '.join(서비스_temp))\n",
    "    위치_및_시설.append(', '.join(위치_및_시설_temp))\n",
    "    \n",
    "    # js함수 닫기 -> 일부에서 적용 안됨\n",
    "    # js함수 닫기 -> 일부에서 적용 안됨\n",
    "    try:\n",
    "        driver.implicitly_wait(10)\n",
    "        driver.find_element_by_css_selector('div.shopArea_pop01.isStoreBizViewWrap > p').click()\n",
    "    except:\n",
    "        try:\n",
    "            driver.implicitly_wait(10)\n",
    "            driver.find_element_by_xpath('//*[@id=\"container\"]/div/p').click()\n",
    "        except:\n",
    "            pass\n",
    "    \n",
    "    print('[%d] : %s is Crawled' % (count+1, name))\n",
    "    count += 1\n",
    "\n",
    "\"\"\" df로 만들기 \"\"\"\n",
    "result = {'code':매장코드,\n",
    "          'name':이름,\n",
    "          'address':주소,\n",
    "          'type':매장유형,\n",
    "          'service':서비스,\n",
    "          'loc&fac':위치_및_시설,\n",
    "          'lat':위도,\n",
    "          'long':경도}\n",
    "\n",
    "df = pd.DataFrame(result,\n",
    "                 columns=['code', 'name', 'address', 'type', 'service', 'loc&fac', 'lat', 'long'])\n",
    "\n",
    "df.to_excel('%s_Stores.xlsx' % city, encoding='cp949')\n",
    "\n",
    "print('\\nCrawling is done')"
   ]
  }
 ],
 "metadata": {
  "kernelspec": {
   "display_name": "Python 3",
   "language": "python",
   "name": "python3"
  },
  "language_info": {
   "codemirror_mode": {
    "name": "ipython",
    "version": 3
   },
   "file_extension": ".py",
   "mimetype": "text/x-python",
   "name": "python",
   "nbconvert_exporter": "python",
   "pygments_lexer": "ipython3",
   "version": "3.8.6"
  }
 },
 "nbformat": 4,
 "nbformat_minor": 4
}